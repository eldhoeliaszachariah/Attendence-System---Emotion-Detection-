{
 "cells": [
  {
   "cell_type": "code",
   "execution_count": 17,
   "id": "19ce7749",
   "metadata": {},
   "outputs": [],
   "source": [
    "from keras.utils import to_categorical\n",
    "from keras_preprocessing.image import load_img\n",
    "from keras.models import Sequential\n",
    "from keras.layers import Dense, Conv2D, Dropout, Flatten, MaxPooling2D\n",
    "import os\n",
    "import pandas as pd\n",
    "import numpy as np"
   ]
  },
  {
   "cell_type": "code",
   "execution_count": 18,
   "id": "02e9c221",
   "metadata": {},
   "outputs": [],
   "source": [
    "TRAIN_DIR = 'images/train'\n",
    "TEST_DIR = 'images/validation'"
   ]
  },
  {
   "cell_type": "code",
   "execution_count": 19,
   "id": "ede9c1f1",
   "metadata": {},
   "outputs": [],
   "source": [
    "def createdataframe(dir):\n",
    "    image_paths = []\n",
    "    labels = []\n",
    "    for label in os.listdir(dir):\n",
    "        for imagename in os.listdir(os.path.join(dir,label)):\n",
    "            image_paths.append(os.path.join(dir,label,imagename))\n",
    "            labels.append(label)\n",
    "        print(label, \"completed\")\n",
    "    return image_paths,labels\n"
   ]
  },
  {
   "cell_type": "code",
   "execution_count": 20,
   "id": "a3a8f1a9",
   "metadata": {},
   "outputs": [
    {
     "name": "stdout",
     "output_type": "stream",
     "text": [
      "angry completed\n",
      "disgust completed\n",
      "fear completed\n",
      "happy completed\n",
      "neutral completed\n",
      "sad completed\n",
      "surprise completed\n"
     ]
    }
   ],
   "source": [
    "train = pd.DataFrame()\n",
    "train['image'], train['label'] = createdataframe(TRAIN_DIR)"
   ]
  },
  {
   "cell_type": "code",
   "execution_count": 21,
   "id": "c8a0cd29",
   "metadata": {},
   "outputs": [
    {
     "name": "stdout",
     "output_type": "stream",
     "text": [
      "                                image     label\n",
      "0            images/train\\angry\\0.jpg     angry\n",
      "1            images/train\\angry\\1.jpg     angry\n",
      "2           images/train\\angry\\10.jpg     angry\n",
      "3        images/train\\angry\\10002.jpg     angry\n",
      "4        images/train\\angry\\10016.jpg     angry\n",
      "...                               ...       ...\n",
      "28816  images/train\\surprise\\9969.jpg  surprise\n",
      "28817  images/train\\surprise\\9985.jpg  surprise\n",
      "28818  images/train\\surprise\\9990.jpg  surprise\n",
      "28819  images/train\\surprise\\9992.jpg  surprise\n",
      "28820  images/train\\surprise\\9996.jpg  surprise\n",
      "\n",
      "[28821 rows x 2 columns]\n"
     ]
    }
   ],
   "source": [
    "print(train)"
   ]
  },
  {
   "cell_type": "code",
   "execution_count": 22,
   "id": "7f9688fc",
   "metadata": {},
   "outputs": [
    {
     "name": "stdout",
     "output_type": "stream",
     "text": [
      "angry completed\n",
      "disgust completed\n",
      "fear completed\n",
      "happy completed\n",
      "neutral completed\n",
      "sad completed\n",
      "surprise completed\n"
     ]
    }
   ],
   "source": [
    "test = pd.DataFrame()\n",
    "test['images'], test['label'] = createdataframe(TEST_DIR)"
   ]
  },
  {
   "cell_type": "code",
   "execution_count": 24,
   "id": "7f504f5d",
   "metadata": {},
   "outputs": [
    {
     "name": "stdout",
     "output_type": "stream",
     "text": [
      "                                   images     label\n",
      "0       images/validation\\angry\\10052.jpg     angry\n",
      "1       images/validation\\angry\\10065.jpg     angry\n",
      "2       images/validation\\angry\\10079.jpg     angry\n",
      "3       images/validation\\angry\\10095.jpg     angry\n",
      "4       images/validation\\angry\\10121.jpg     angry\n",
      "...                                   ...       ...\n",
      "7061  images/validation\\surprise\\9806.jpg  surprise\n",
      "7062  images/validation\\surprise\\9830.jpg  surprise\n",
      "7063  images/validation\\surprise\\9853.jpg  surprise\n",
      "7064  images/validation\\surprise\\9878.jpg  surprise\n",
      "7065   images/validation\\surprise\\993.jpg  surprise\n",
      "\n",
      "[7066 rows x 2 columns]\n",
      "0         images/validation\\angry\\10052.jpg\n",
      "1         images/validation\\angry\\10065.jpg\n",
      "2         images/validation\\angry\\10079.jpg\n",
      "3         images/validation\\angry\\10095.jpg\n",
      "4         images/validation\\angry\\10121.jpg\n",
      "                       ...                 \n",
      "7061    images/validation\\surprise\\9806.jpg\n",
      "7062    images/validation\\surprise\\9830.jpg\n",
      "7063    images/validation\\surprise\\9853.jpg\n",
      "7064    images/validation\\surprise\\9878.jpg\n",
      "7065     images/validation\\surprise\\993.jpg\n",
      "Name: images, Length: 7066, dtype: object\n"
     ]
    }
   ],
   "source": [
    "print(test)\n",
    "print(test['images'])"
   ]
  },
  {
   "cell_type": "code",
   "execution_count": 25,
   "id": "693324b0",
   "metadata": {},
   "outputs": [],
   "source": [
    "from tqdm.notebook import tqdm"
   ]
  },
  {
   "cell_type": "code",
   "execution_count": 26,
   "id": "f52ccbbe",
   "metadata": {},
   "outputs": [],
   "source": [
    "def extract_features(images):\n",
    "    features = []\n",
    "    for image in tqdm(images):\n",
    "        img = load_img(image,grayscale =  True )\n",
    "        img = np.array(img)\n",
    "        features.append(img)\n",
    "    features = np.array(features)\n",
    "    features = features.reshape(len(features),48,48,1)\n",
    "    return features\n",
    "    "
   ]
  },
  {
   "cell_type": "code",
   "execution_count": 27,
   "id": "942a9d40",
   "metadata": {},
   "outputs": [
    {
     "data": {
      "application/vnd.jupyter.widget-view+json": {
       "model_id": "6f79aaf11a7045b39c8078aefdae14cf",
       "version_major": 2,
       "version_minor": 0
      },
      "text/plain": [
       "  0%|          | 0/28821 [00:00<?, ?it/s]"
      ]
     },
     "metadata": {},
     "output_type": "display_data"
    },
    {
     "name": "stderr",
     "output_type": "stream",
     "text": [
      "C:\\Users\\Arjun\\anaconda3\\envs\\attendence\\lib\\site-packages\\keras_preprocessing\\image\\utils.py:107: UserWarning: grayscale is deprecated. Please use color_mode = \"grayscale\"\n",
      "  warnings.warn('grayscale is deprecated. Please use '\n"
     ]
    }
   ],
   "source": [
    "train_features = extract_features(train['image']) "
   ]
  },
  {
   "cell_type": "code",
   "execution_count": 29,
   "id": "c1b294ed",
   "metadata": {
    "scrolled": true
   },
   "outputs": [
    {
     "data": {
      "application/vnd.jupyter.widget-view+json": {
       "model_id": "1cc7f80059b64d56b5aa5a0aed2deed0",
       "version_major": 2,
       "version_minor": 0
      },
      "text/plain": [
       "  0%|          | 0/7066 [00:00<?, ?it/s]"
      ]
     },
     "metadata": {},
     "output_type": "display_data"
    }
   ],
   "source": [
    "test_features = extract_features(test['images'])"
   ]
  },
  {
   "cell_type": "code",
   "execution_count": 31,
   "id": "f78b5d34",
   "metadata": {},
   "outputs": [],
   "source": [
    "x_train = train_features/255.0\n",
    "x_test = test_features/255.0"
   ]
  },
  {
   "cell_type": "code",
   "execution_count": 32,
   "id": "c660fca1",
   "metadata": {},
   "outputs": [],
   "source": [
    "from sklearn.preprocessing import LabelEncoder"
   ]
  },
  {
   "cell_type": "code",
   "execution_count": 33,
   "id": "5384a25b",
   "metadata": {},
   "outputs": [
    {
     "data": {
      "text/plain": [
       "LabelEncoder()"
      ]
     },
     "execution_count": 33,
     "metadata": {},
     "output_type": "execute_result"
    }
   ],
   "source": [
    "le = LabelEncoder()\n",
    "le.fit(train['label'])"
   ]
  },
  {
   "cell_type": "code",
   "execution_count": 34,
   "id": "50ece229",
   "metadata": {},
   "outputs": [],
   "source": [
    "y_train = le.transform(train['label'])\n",
    "y_test = le.transform(test['label'])"
   ]
  },
  {
   "cell_type": "code",
   "execution_count": 35,
   "id": "5e284299",
   "metadata": {},
   "outputs": [],
   "source": [
    "y_train = to_categorical(y_train,num_classes = 7)\n",
    "y_test = to_categorical(y_test,num_classes = 7)"
   ]
  },
  {
   "cell_type": "code",
   "execution_count": 36,
   "id": "3977223a",
   "metadata": {},
   "outputs": [],
   "source": [
    "model = Sequential()\n",
    "# convolutional layers\n",
    "model.add(Conv2D(128, kernel_size=(3,3), activation='relu', input_shape=(48,48,1)))\n",
    "model.add(MaxPooling2D(pool_size=(2,2)))\n",
    "model.add(Dropout(0.4))\n",
    "\n",
    "model.add(Conv2D(256, kernel_size=(3,3), activation='relu'))\n",
    "model.add(MaxPooling2D(pool_size=(2,2)))\n",
    "model.add(Dropout(0.4))\n",
    "\n",
    "model.add(Conv2D(512, kernel_size=(3,3), activation='relu'))\n",
    "model.add(MaxPooling2D(pool_size=(2,2)))\n",
    "model.add(Dropout(0.4))\n",
    "\n",
    "model.add(Conv2D(512, kernel_size=(3,3), activation='relu'))\n",
    "model.add(MaxPooling2D(pool_size=(2,2)))\n",
    "model.add(Dropout(0.4))\n",
    "\n",
    "model.add(Flatten())\n",
    "# fully connected layers\n",
    "model.add(Dense(512, activation='relu'))\n",
    "model.add(Dropout(0.4))\n",
    "model.add(Dense(256, activation='relu'))\n",
    "model.add(Dropout(0.3))\n",
    "# output layer\n",
    "model.add(Dense(7, activation='softmax'))"
   ]
  },
  {
   "cell_type": "code",
   "execution_count": 37,
   "id": "de986d6e",
   "metadata": {},
   "outputs": [],
   "source": [
    "model.compile(optimizer = 'adam', loss = 'categorical_crossentropy', metrics = 'accuracy' )"
   ]
  },
  {
   "cell_type": "code",
   "execution_count": null,
   "id": "5cd0b130",
   "metadata": {},
   "outputs": [
    {
     "name": "stdout",
     "output_type": "stream",
     "text": [
      "Epoch 1/100\n",
      "226/226 [==============================] - 323s 1s/step - loss: 1.8224 - accuracy: 0.2425 - val_loss: 1.7924 - val_accuracy: 0.2570\n",
      "Epoch 2/100\n",
      "226/226 [==============================] - 333s 1s/step - loss: 1.7669 - accuracy: 0.2658 - val_loss: 1.6793 - val_accuracy: 0.3232\n",
      "Epoch 3/100\n",
      "226/226 [==============================] - 325s 1s/step - loss: 1.6551 - accuracy: 0.3301 - val_loss: 1.5383 - val_accuracy: 0.4110\n",
      "Epoch 4/100\n",
      "226/226 [==============================] - 323s 1s/step - loss: 1.5323 - accuracy: 0.4005 - val_loss: 1.3745 - val_accuracy: 0.4690\n",
      "Epoch 5/100\n",
      "226/226 [==============================] - 330s 1s/step - loss: 1.4503 - accuracy: 0.4374 - val_loss: 1.3252 - val_accuracy: 0.4914\n",
      "Epoch 6/100\n",
      "226/226 [==============================] - 338s 1s/step - loss: 1.3980 - accuracy: 0.4591 - val_loss: 1.2699 - val_accuracy: 0.5102\n",
      "Epoch 7/100\n",
      "226/226 [==============================] - 341s 2s/step - loss: 1.3579 - accuracy: 0.4768 - val_loss: 1.2436 - val_accuracy: 0.5209\n",
      "Epoch 8/100\n",
      "226/226 [==============================] - 343s 2s/step - loss: 1.3303 - accuracy: 0.4913 - val_loss: 1.2219 - val_accuracy: 0.5398\n",
      "Epoch 9/100\n",
      "226/226 [==============================] - 335s 1s/step - loss: 1.3016 - accuracy: 0.5002 - val_loss: 1.1896 - val_accuracy: 0.5443\n",
      "Epoch 10/100\n",
      "226/226 [==============================] - 338s 1s/step - loss: 1.2912 - accuracy: 0.5053 - val_loss: 1.1760 - val_accuracy: 0.5476\n",
      "Epoch 11/100\n",
      "226/226 [==============================] - 344s 2s/step - loss: 1.2666 - accuracy: 0.5138 - val_loss: 1.1702 - val_accuracy: 0.5519\n",
      "Epoch 12/100\n",
      "226/226 [==============================] - 353s 2s/step - loss: 1.2432 - accuracy: 0.5227 - val_loss: 1.1463 - val_accuracy: 0.5643\n",
      "Epoch 13/100\n",
      "226/226 [==============================] - 328s 1s/step - loss: 1.2335 - accuracy: 0.5260 - val_loss: 1.1413 - val_accuracy: 0.5709\n",
      "Epoch 14/100\n",
      "226/226 [==============================] - 325s 1s/step - loss: 1.2140 - accuracy: 0.5386 - val_loss: 1.1313 - val_accuracy: 0.5730\n",
      "Epoch 15/100\n",
      "226/226 [==============================] - 339s 1s/step - loss: 1.2060 - accuracy: 0.5391 - val_loss: 1.1446 - val_accuracy: 0.5623\n",
      "Epoch 16/100\n",
      "226/226 [==============================] - 327s 1s/step - loss: 1.1894 - accuracy: 0.5479 - val_loss: 1.1205 - val_accuracy: 0.5737\n",
      "Epoch 17/100\n",
      "226/226 [==============================] - 346s 2s/step - loss: 1.1763 - accuracy: 0.5558 - val_loss: 1.1100 - val_accuracy: 0.5804\n",
      "Epoch 18/100\n",
      "226/226 [==============================] - 334s 1s/step - loss: 1.1632 - accuracy: 0.5589 - val_loss: 1.0955 - val_accuracy: 0.5890\n",
      "Epoch 19/100\n",
      "226/226 [==============================] - 338s 1s/step - loss: 1.1547 - accuracy: 0.5583 - val_loss: 1.0991 - val_accuracy: 0.5849\n",
      "Epoch 20/100\n",
      "226/226 [==============================] - 335s 1s/step - loss: 1.1512 - accuracy: 0.5598 - val_loss: 1.0993 - val_accuracy: 0.5924\n",
      "Epoch 21/100\n",
      "226/226 [==============================] - 335s 1s/step - loss: 1.1320 - accuracy: 0.5698 - val_loss: 1.0922 - val_accuracy: 0.5890\n",
      "Epoch 22/100\n",
      "226/226 [==============================] - 327s 1s/step - loss: 1.1275 - accuracy: 0.5698 - val_loss: 1.0816 - val_accuracy: 0.5935\n",
      "Epoch 23/100\n",
      "226/226 [==============================] - 324s 1s/step - loss: 1.1128 - accuracy: 0.5771 - val_loss: 1.0923 - val_accuracy: 0.5904\n",
      "Epoch 24/100\n",
      "226/226 [==============================] - 323s 1s/step - loss: 1.1050 - accuracy: 0.5802 - val_loss: 1.0884 - val_accuracy: 0.5866\n",
      "Epoch 25/100\n",
      "226/226 [==============================] - 331s 1s/step - loss: 1.0973 - accuracy: 0.5834 - val_loss: 1.0711 - val_accuracy: 0.5989\n",
      "Epoch 26/100\n",
      "226/226 [==============================] - 336s 1s/step - loss: 1.0987 - accuracy: 0.5856 - val_loss: 1.0806 - val_accuracy: 0.5952\n",
      "Epoch 27/100\n",
      "226/226 [==============================] - 335s 1s/step - loss: 1.0838 - accuracy: 0.5908 - val_loss: 1.0741 - val_accuracy: 0.6015\n",
      "Epoch 28/100\n",
      "226/226 [==============================] - 335s 1s/step - loss: 1.0778 - accuracy: 0.5896 - val_loss: 1.0674 - val_accuracy: 0.6027\n",
      "Epoch 29/100\n",
      "213/226 [===========================>..] - ETA: 20s - loss: 1.0688 - accuracy: 0.5938"
     ]
    }
   ],
   "source": [
    "model.fit(x= x_train,y = y_train, batch_size = 128, epochs = 100, validation_data = (x_test,y_test)) "
   ]
  },
  {
   "cell_type": "code",
   "execution_count": 21,
   "id": "2b0f1923",
   "metadata": {},
   "outputs": [],
   "source": [
    "model_json = model.to_json()\n",
    "with open(\"emotionmodel.json\",'w') as json_file:\n",
    "    json_file.write(model_json)\n",
    "model.save(\"emotionmodel.h5\")"
   ]
  },
  {
   "cell_type": "code",
   "execution_count": 22,
   "id": "46e2098e",
   "metadata": {},
   "outputs": [],
   "source": [
    "from keras.models import model_from_json"
   ]
  },
  {
   "cell_type": "code",
   "execution_count": 23,
   "id": "90703547",
   "metadata": {},
   "outputs": [],
   "source": [
    "json_file = open(\"emotionmodel.json\", \"r\")\n",
    "model_json = json_file.read()\n",
    "json_file.close()\n",
    "model = model_from_json(model_json)\n",
    "model.load_weights(\"emotionmodel.h5\")"
   ]
  },
  {
   "cell_type": "code",
   "execution_count": 24,
   "id": "3932bbe8",
   "metadata": {},
   "outputs": [],
   "source": [
    "label = ['angry','disgust','fear','happy','neutral','sad','surprise']"
   ]
  },
  {
   "cell_type": "code",
   "execution_count": 33,
   "id": "b0ccbacf",
   "metadata": {},
   "outputs": [],
   "source": [
    "def ef(image):\n",
    "    img = load_img(image,grayscale =  True )\n",
    "    feature = np.array(img)\n",
    "    feature = feature.reshape(1,48,48,1)\n",
    "    return feature/255.0\n",
    "    "
   ]
  },
  {
   "cell_type": "code",
   "execution_count": 37,
   "id": "5882c78e",
   "metadata": {},
   "outputs": [
    {
     "name": "stdout",
     "output_type": "stream",
     "text": [
      "original image is of sad\n",
      "1/1 [==============================] - 0s 46ms/step\n",
      "model prediction is  sad\n"
     ]
    }
   ],
   "source": [
    "image = 'images/train/sad/42.jpg'\n",
    "print(\"original image is of sad\")\n",
    "img = ef(image)\n",
    "pred = model.predict(img)\n",
    "pred_label = label[pred.argmax()]\n",
    "print(\"model prediction is \",pred_label)"
   ]
  },
  {
   "cell_type": "code",
   "execution_count": 38,
   "id": "8994206c",
   "metadata": {},
   "outputs": [],
   "source": [
    "import matplotlib.pyplot as plt\n",
    "%matplotlib inline"
   ]
  },
  {
   "cell_type": "code",
   "execution_count": 42,
   "id": "c83af9e1",
   "metadata": {},
   "outputs": [
    {
     "name": "stdout",
     "output_type": "stream",
     "text": [
      "original image is of sad\n",
      "1/1 [==============================] - 0s 55ms/step\n",
      "model prediction is  sad\n"
     ]
    },
    {
     "data": {
      "text/plain": [
       "<matplotlib.image.AxesImage at 0x16abfe14e80>"
      ]
     },
     "execution_count": 42,
     "metadata": {},
     "output_type": "execute_result"
    },
    {
     "data": {
      "image/png": "[encoded data removed]",
      "text/plain": [
       "<Figure size 640x480 with 1 Axes>"
      ]
     },
     "metadata": {},
     "output_type": "display_data"
    }
   ],
   "source": [
    "image = 'images/train/sad/42.jpg'\n",
    "print(\"original image is of sad\")\n",
    "img = ef(image)\n",
    "pred = model.predict(img)\n",
    "pred_label = label[pred.argmax()]\n",
    "print(\"model prediction is \",pred_label)\n",
    "plt.imshow(img.reshape(48,48),cmap='gray')"
   ]
  },
  {
   "cell_type": "code",
   "execution_count": null,
   "id": "fd4dd5a4",
   "metadata": {},
   "outputs": [],
   "source": [
    "import os\n",
    "import pandas as pd\n",
    "import numpy as np\n",
    "from keras.preprocessing.image import load_img\n",
    "from keras.models import Sequential\n",
    "from keras.layers import Conv2D, MaxPooling2D, Flatten, Dense, Dropout\n",
    "from keras.utils import to_categorical\n",
    "from sklearn.preprocessing import LabelEncoder\n",
    "from sklearn.metrics import confusion_matrix, classification_report, precision_score, recall_score\n",
    "import seaborn as sns\n",
    "import matplotlib.pyplot as plt\n",
    "from tqdm import tqdm"
   ]
  },
  {
   "cell_type": "code",
   "execution_count": null,
   "id": "f3d8c8fc",
   "metadata": {},
   "outputs": [],
   "source": [
    "# Predict on the test set\n",
    "y_pred_prob = model.predict(test_features)\n",
    "y_pred = np.argmax(y_pred_prob, axis=1)  # Get predicted classes\n",
    "y_true = np.argmax(y_test, axis=1)  # Get true classes"
   ]
  },
  {
   "cell_type": "code",
   "execution_count": null,
   "id": "37949607",
   "metadata": {},
   "outputs": [],
   "source": [
    "# Create confusion matrix\n",
    "conf_matrix = confusion_matrix(y_true, y_pred)\n",
    "\n",
    "# Plot confusion matrix\n",
    "plt.figure(figsize=(10, 8))\n",
    "sns.heatmap(conf_matrix, annot=True, cmap='Blues', fmt='g', xticklabels=le.classes_, yticklabels=le.classes_)\n",
    "plt.xlabel('Predicted')\n",
    "plt.ylabel('True')\n",
    "plt.title('Confusion Matrix for Emotion Detection')\n",
    "plt.show()"
   ]
  },
  {
   "cell_type": "code",
   "execution_count": null,
   "id": "5d8a640a",
   "metadata": {},
   "outputs": [],
   "source": [
    "report = classification_report(y_true, y_pred, target_names=le.classes_)\n",
    "print(report)"
   ]
  },
  {
   "cell_type": "code",
   "execution_count": null,
   "id": "edd00a1d",
   "metadata": {},
   "outputs": [],
   "source": [
    "precision = precision_score(y_true, y_pred, average='weighted')\n",
    "recall = recall_score(y_true, y_pred, average='weighted')\n",
    "\n",
    "print(f'Precision: {precision:.2f}')\n",
    "print(f'Recall: {recall:.2f}')"
   ]
  },
  {
   "cell_type": "code",
   "execution_count": null,
   "id": "c41a4c27",
   "metadata": {},
   "outputs": [],
   "source": [
    "# Predict on the test set\n",
    "y_pred_prob = model.predict(test_features)\n",
    "y_pred = np.argmax(y_pred_prob, axis=1)  # Get predicted classes\n",
    "y_true = np.argmax(y_test, axis=1)  # Get true classes\n",
    "\n",
    "# Confusion Matrix\n",
    "conf_matrix = confusion_matrix(y_true, y_pred)\n",
    "plt.figure(figsize=(10, 8))\n",
    "sns.heatmap(conf_matrix, annot=True, cmap='Blues', fmt='g', xticklabels=le.classes_, yticklabels=le.classes_)\n",
    "plt.xlabel('Predicted')\n",
    "plt.ylabel('True')\n",
    "plt.title('Confusion Matrix for Emotion Detection')\n",
    "plt.show()\n",
    "\n",
    "# Classification Report\n",
    "report = classification_report(y_true, y_pred, target_names=le.classes_)\n",
    "print(report)\n",
    "\n",
    "# Precision and Recall\n",
    "precision = precision_score(y_true, y_pred, average='weighted')\n",
    "recall = recall_score(y_true, y_pred, average='weighted')\n",
    "print(f'Precision: {precision:.2f}')\n",
    "print(f'Recall: {recall:.2f}')"
   ]
  },
  {
   "cell_type": "code",
   "execution_count": null,
   "id": "5138a813",
   "metadata": {},
   "outputs": [],
   "source": []
  }
 ],
 "metadata": {
  "kernelspec": {
   "display_name": "Python 3 (ipykernel)",
   "language": "python",
   "name": "python3"
  },
  "language_info": {
   "codemirror_mode": {
    "name": "ipython",
    "version": 3
   },
   "file_extension": ".py",
   "mimetype": "text/x-python",
   "name": "python",
   "nbconvert_exporter": "python",
   "pygments_lexer": "ipython3",
   "version": "3.7.16"
  }
 },
 "nbformat": 4,
 "nbformat_minor": 5
}
